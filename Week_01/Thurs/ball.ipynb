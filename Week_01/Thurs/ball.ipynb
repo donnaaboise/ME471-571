{
 "cells": [
  {
   "cell_type": "markdown",
   "metadata": {},
   "source": [
    "Use Jupyter Notebook **magic commands** to populate interactive space with Matlab-like commands.   This will make it easy to call math and plotting commands without the need to prepend a namespace identifier.  Instead of `math.sqrt(1.0)`, we can simply type `sqrt(1.0)`.   \n",
    "\n"
   ]
  },
  {
   "cell_type": "code",
   "execution_count": null,
   "metadata": {
    "collapsed": false
   },
   "outputs": [],
   "source": [
    "%pylab inline          \n",
    "%matplotlib notebook   \n",
    "\n",
    "# import math    # We don't need this, since these are all included in pylab.  "
   ]
  },
  {
   "cell_type": "markdown",
   "metadata": {},
   "source": [
    "To run commands in the notebook, hit *shift-enter* in each code or markdown block."
   ]
  },
  {
   "cell_type": "markdown",
   "metadata": {},
   "source": [
    "Compute and plot trajectory of ball\n",
    "---------------------------------\n",
    "\n",
    "We will use the following formula to compute the trajectory of a ball thrown\n",
    "\n",
    "\\begin{equation}\n",
    "s(t) = -\\frac{1}{2} g t^2 + v_0 t + s_0\n",
    "\\end{equation}"
   ]
  },
  {
   "cell_type": "code",
   "execution_count": null,
   "metadata": {
    "collapsed": true
   },
   "outputs": [],
   "source": [
    "# Set up physical constants and problem parameters\n",
    "\n",
    "g = 9.81    # gravity\n",
    "v0 = 30\n",
    "s0 = 25"
   ]
  },
  {
   "cell_type": "code",
   "execution_count": null,
   "metadata": {
    "collapsed": false
   },
   "outputs": [],
   "source": [
    "# Test out problem\n",
    "\n",
    "t = 4.0\n",
    "\n",
    "s = -0.5*g*t**2 + v0*t + s0\n",
    "\n",
    "print(\"The position of the ball at time t = %g is %g\" % (t,s))"
   ]
  },
  {
   "cell_type": "markdown",
   "metadata": {},
   "source": [
    "To find the time at which the ball hits the ground, we set $s(t) = 0$ and solve the quatratic equation to get\n",
    "\n",
    "\\begin{equation}\n",
    "t_{ground} = \\frac{v_0 + \\sqrt{v_0^2 + 2gs_0}}{g}\n",
    "\\end{equation}"
   ]
  },
  {
   "cell_type": "code",
   "execution_count": null,
   "metadata": {
    "collapsed": false
   },
   "outputs": [],
   "source": [
    "t_ground = (v0 + sqrt(v0**2 + 2*g*s0))/g\n",
    "\n",
    "print('Time ball hits the ground is %g' % t_ground)"
   ]
  },
  {
   "cell_type": "code",
   "execution_count": null,
   "metadata": {
    "collapsed": false
   },
   "outputs": [],
   "source": [
    "t_max = v0/g\n",
    "s_max = -0.5*g*t_max**2 + v0*t_max + s0\n",
    "\n",
    "print('Maximum height is reached at t = %g and height is %g' % (t_max,s_max))"
   ]
  },
  {
   "cell_type": "markdown",
   "metadata": {},
   "source": [
    "Plot the results\n",
    "---------------\n",
    "\n",
    "Use Matlab-like commands to plot the results"
   ]
  },
  {
   "cell_type": "code",
   "execution_count": null,
   "metadata": {
    "collapsed": false
   },
   "outputs": [],
   "source": [
    "t = linspace(0,t_ground,200)\n",
    "\n",
    "plot(t,-0.5*g*t**2 + v0*t + s0)"
   ]
  },
  {
   "cell_type": "code",
   "execution_count": null,
   "metadata": {
    "collapsed": false
   },
   "outputs": [],
   "source": [
    "plot(t_max,s_max,'r.',markersize=20)\n",
    "plot(t_ground,0.0,'r.',markersize=20)"
   ]
  },
  {
   "cell_type": "code",
   "execution_count": null,
   "metadata": {
    "collapsed": false
   },
   "outputs": [],
   "source": [
    "ylim([-5,80])                        # Adjust y-axis limits\n",
    "plot([0.0,7.0],[0.0,0.0],'k--')      # add zero reference line\n",
    "plot([0.0,7.0],[s_max,s_max],'k-')   # add reference line at maximum height\n",
    "\n",
    "\n",
    "xlabel('Time (s)',fontsize=16)\n",
    "ylabel('Height of ball',fontsize=16)\n",
    "title('Plot trajectory of ball',fontsize=18)"
   ]
  },
  {
   "cell_type": "code",
   "execution_count": null,
   "metadata": {
    "collapsed": true
   },
   "outputs": [],
   "source": []
  }
 ],
 "metadata": {
  "kernelspec": {
   "display_name": "Python 2",
   "language": "python",
   "name": "python2"
  },
  "language_info": {
   "codemirror_mode": {
    "name": "ipython",
    "version": 2
   },
   "file_extension": ".py",
   "mimetype": "text/x-python",
   "name": "python",
   "nbconvert_exporter": "python",
   "pygments_lexer": "ipython2",
   "version": "2.7.14"
  }
 },
 "nbformat": 4,
 "nbformat_minor": 0
}
