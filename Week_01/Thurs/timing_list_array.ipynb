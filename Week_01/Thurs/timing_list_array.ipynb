{
 "cells": [
  {
   "cell_type": "markdown",
   "metadata": {},
   "source": [
    "# Timing the Python list and the Python array\n",
    "Time adding two lists of integers using the Python \"list\" object. \n",
    "\n",
    "In the examples that follow, we will compute a vector $w = v + v$ using \n",
    "\n",
    "* a loop\n",
    "* a loop with pre-allocated list\n",
    "* the `map` function\n",
    "\n",
    "We repeat this for both the Python `list` and a Python `array`.  \n",
    "\n",
    "For both examples, the vector $v$ will be length $N = 10^7$. "
   ]
  },
  {
   "cell_type": "code",
   "execution_count": null,
   "metadata": {
    "collapsed": true
   },
   "outputs": [],
   "source": [
    "N = 10000000"
   ]
  },
  {
   "cell_type": "markdown",
   "metadata": {},
   "source": [
    "## Using the  Python list type"
   ]
  },
  {
   "cell_type": "code",
   "execution_count": null,
   "metadata": {},
   "outputs": [],
   "source": [
    "v = range(N)     # creates a list of integers - 0,1,2,...,N-1"
   ]
  },
  {
   "cell_type": "code",
   "execution_count": null,
   "metadata": {},
   "outputs": [],
   "source": [
    "%%time\n",
    "w = list()       # An empty list;  alternatively, use y = []\n",
    "for i in range(N):\n",
    "    w.append(v[i]+v[i])"
   ]
  },
  {
   "cell_type": "code",
   "execution_count": null,
   "metadata": {},
   "outputs": [],
   "source": [
    "%%time\n",
    "w = N*[0]            # pre-allocate the memory for the list\n",
    "for i in range(N):\n",
    "    w[i] = v[i] + v[i]"
   ]
  },
  {
   "cell_type": "code",
   "execution_count": null,
   "metadata": {},
   "outputs": [],
   "source": [
    "%%time\n",
    "\n",
    "# Define a function that adds two scalar values. \n",
    "def add(x,y):\n",
    "    return x + y\n",
    "\n",
    "# apply function to entries of two argument (v,v) in a elementwise fashion\n",
    "w = list(map(add,v,v))"
   ]
  },
  {
   "cell_type": "markdown",
   "metadata": {},
   "source": [
    "We can also use the `lambda` function to create an anonymous function that can be passed directly to the `map` function."
   ]
  },
  {
   "cell_type": "code",
   "execution_count": null,
   "metadata": {},
   "outputs": [],
   "source": [
    "%%time\n",
    "w = list(map(lambda x,y : x + y,v,v))"
   ]
  },
  {
   "cell_type": "markdown",
   "metadata": {},
   "source": [
    "## Using the Python array type\n",
    "\n",
    "We repeat the above, but with the Python array type.  This is like a list, but storage is more like C-style storage, i.e. memory is contiguous, and so accessing entries should be faster than with the list."
   ]
  },
  {
   "cell_type": "code",
   "execution_count": null,
   "metadata": {
    "collapsed": true
   },
   "outputs": [],
   "source": [
    "import array\n",
    "\n",
    "v = array.array('d',range(N))"
   ]
  },
  {
   "cell_type": "code",
   "execution_count": null,
   "metadata": {},
   "outputs": [],
   "source": [
    "%%time\n",
    "w = array.array('d',[])\n",
    "for i in range(N):\n",
    "    w.append(v[i]+v[i])"
   ]
  },
  {
   "cell_type": "code",
   "execution_count": null,
   "metadata": {},
   "outputs": [],
   "source": [
    "%%time\n",
    "w = array.array('d',N*[0])         # pre-allocate the list\n",
    "for i in range(N):\n",
    "    w[i] = v[i] + v[i]"
   ]
  },
  {
   "cell_type": "code",
   "execution_count": null,
   "metadata": {},
   "outputs": [],
   "source": [
    "%%time\n",
    "w = list(map(lambda x,y : x + y,v,v))"
   ]
  }
 ],
 "metadata": {
  "kernelspec": {
   "display_name": "Python 3",
   "language": "python",
   "name": "python3"
  },
  "language_info": {
   "codemirror_mode": {
    "name": "ipython",
    "version": 3
   },
   "file_extension": ".py",
   "mimetype": "text/x-python",
   "name": "python",
   "nbconvert_exporter": "python",
   "pygments_lexer": "ipython3",
   "version": "3.6.3"
  }
 },
 "nbformat": 4,
 "nbformat_minor": 1
}
