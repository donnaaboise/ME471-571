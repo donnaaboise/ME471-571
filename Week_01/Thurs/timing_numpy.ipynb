{
 "cells": [
  {
   "cell_type": "markdown",
   "metadata": {},
   "source": [
    "# Timing the NumPy array\n",
    "\n",
    "In this example, we time the vector operation $w = v + v$, where $v$ and $w$ are stored as Numpy arrays.  We use the following methods\n",
    "\n",
    "* a loop\n",
    "* a loop with pre-allocated memory\n",
    "* Vectorized element-wise addition\n",
    "\n",
    "As with the previous two examples, the vector $v$ will be a length $N=10^7$ array.\n"
   ]
  },
  {
   "cell_type": "code",
   "execution_count": null,
   "metadata": {
    "collapsed": true
   },
   "outputs": [],
   "source": [
    "import numpy as np\n",
    "\n",
    "N = 10000000\n",
    "\n",
    "v = np.arange(N)   # array range"
   ]
  },
  {
   "cell_type": "code",
   "execution_count": null,
   "metadata": {},
   "outputs": [],
   "source": [
    "%%time\n",
    "w = np.array([])      # Empty NumPy array\n",
    "for i in range(N):\n",
    "    w.resize(i+1)     \n",
    "    w[i] = v[i]+v[i]"
   ]
  },
  {
   "cell_type": "markdown",
   "metadata": {},
   "source": [
    "Pre-allocating memory for NumPy arrays should have a dramatic effect on performance."
   ]
  },
  {
   "cell_type": "code",
   "execution_count": null,
   "metadata": {},
   "outputs": [],
   "source": [
    "%%time\n",
    "w = np.empty(N)      # pre-allocate memory but do not assign to any values\n",
    "for i in range(N):\n",
    "    w[i] = v[i]+v[i]"
   ]
  },
  {
   "cell_type": "markdown",
   "metadata": {},
   "source": [
    "Like Matlab, Numpy arrays can particpate in most arithmetic operations.  "
   ]
  },
  {
   "cell_type": "code",
   "execution_count": null,
   "metadata": {},
   "outputs": [],
   "source": [
    "%%time \n",
    "y = v + v"
   ]
  },
  {
   "cell_type": "code",
   "execution_count": null,
   "metadata": {
    "collapsed": true
   },
   "outputs": [],
   "source": []
  }
 ],
 "metadata": {
  "kernelspec": {
   "display_name": "Python 3",
   "language": "python",
   "name": "python3"
  },
  "language_info": {
   "codemirror_mode": {
    "name": "ipython",
    "version": 3
   },
   "file_extension": ".py",
   "mimetype": "text/x-python",
   "name": "python",
   "nbconvert_exporter": "python",
   "pygments_lexer": "ipython3",
   "version": "3.6.3"
  }
 },
 "nbformat": 4,
 "nbformat_minor": 1
}
