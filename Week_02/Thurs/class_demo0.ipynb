{
 "cells": [
  {
   "cell_type": "code",
   "execution_count": null,
   "metadata": {},
   "outputs": [],
   "source": [
    "import multiprocessing\n",
    "import time\n",
    "\n",
    "import os\n",
    "\n",
    "print(\"Parent process is {}\".format(os.getppid()))\n",
    "print(\"Parent process is {}\".format(os.getpid()))\n",
    "print(multiprocessing.current_process().name)"
   ]
  },
  {
   "cell_type": "code",
   "execution_count": null,
   "metadata": {},
   "outputs": [],
   "source": [
    "def hello(s):\n",
    "    id =  multiprocessing.current_process().name\n",
    "    print(\"Hello from {};  child process = {}\".format(id,os.getpid()))\n",
    "    time.sleep(s)\n",
    "    print(\"done with {}\".format(id))\n",
    "    print(\"\")\n",
    "    \n",
    "jobs = []\n",
    "jobs.append(multiprocessing.Process(target=hello,args=[5]));\n",
    "jobs.append(multiprocessing.Process(target=hello,args=[10]))"
   ]
  },
  {
   "cell_type": "code",
   "execution_count": null,
   "metadata": {},
   "outputs": [],
   "source": [
    "%%time\n",
    "jobs[0].start()\n",
    "jobs[1].start()\n",
    "print(\"jobid = {}\".format(jobs[0].pid))\n",
    "print(jobs[0].is_alive())\n",
    "jobs[0].join()\n",
    "\n",
    "#while job.is_alive():     # EQuivalent to job.join()\n",
    "#    pass\n",
    "\n",
    "print(jobs[0].is_alive())\n",
    "print(\"All done!\")"
   ]
  },
  {
   "cell_type": "code",
   "execution_count": null,
   "metadata": {},
   "outputs": [],
   "source": [
    "jobs[1].is_alive()"
   ]
  },
  {
   "cell_type": "code",
   "execution_count": null,
   "metadata": {
    "collapsed": true
   },
   "outputs": [],
   "source": []
  }
 ],
 "metadata": {
  "kernelspec": {
   "display_name": "Python 3",
   "language": "python",
   "name": "python3"
  },
  "language_info": {
   "codemirror_mode": {
    "name": "ipython",
    "version": 3
   },
   "file_extension": ".py",
   "mimetype": "text/x-python",
   "name": "python",
   "nbconvert_exporter": "python",
   "pygments_lexer": "ipython3",
   "version": "3.6.3"
  }
 },
 "nbformat": 4,
 "nbformat_minor": 2
}
