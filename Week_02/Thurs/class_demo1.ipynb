{
 "cells": [
  {
   "cell_type": "code",
   "execution_count": null,
   "metadata": {},
   "outputs": [],
   "source": [
    "import multiprocessing\n",
    "import time\n",
    "\n",
    "import os\n",
    "\n",
    "print(\"Parent process is {}\".format(os.getppid()))\n",
    "print(\"Parent process is {}\".format(os.getpid()))\n",
    "print(multiprocessing.current_process().name)\n",
    "\n",
    "def hello(i,k,v):\n",
    "    id = multiprocessing.current_process().name\n",
    "    print(\"greetings from {}\".format(id))\n",
    "    k.value += 1\n",
    "    v[i] = k.value\n",
    "    print(\"\")\n",
    "\n",
    "    \n",
    "np = 10\n",
    "\n",
    "\n",
    "k = multiprocessing.Value('i',0)\n",
    "v = multiprocessing.Array('d',np*[0])\n",
    "\n",
    "\n",
    "jobs = []\n",
    "for i in range(np):\n",
    "    job = multiprocessing.Process(target=hello,args = [i,k,v])\n",
    "    job.start()\n",
    "    jobs.append(job)\n",
    "    \n",
    "for i in range(np):\n",
    "    # pass\n",
    "    jobs[i].join()\n",
    "    \n",
    "print(\"k is {}\".format(k.value))\n",
    "\n",
    "for i in range(np):\n",
    "    print(\"v[{}] = {}\".format(i,v[i]))\n",
    "\n",
    "print(\"All done!\")"
   ]
  },
  {
   "cell_type": "code",
   "execution_count": null,
   "metadata": {
    "collapsed": true
   },
   "outputs": [],
   "source": []
  }
 ],
 "metadata": {
  "kernelspec": {
   "display_name": "Python 3",
   "language": "python",
   "name": "python3"
  },
  "language_info": {
   "codemirror_mode": {
    "name": "ipython",
    "version": 3
   },
   "file_extension": ".py",
   "mimetype": "text/x-python",
   "name": "python",
   "nbconvert_exporter": "python",
   "pygments_lexer": "ipython3",
   "version": "3.6.3"
  }
 },
 "nbformat": 4,
 "nbformat_minor": 2
}
