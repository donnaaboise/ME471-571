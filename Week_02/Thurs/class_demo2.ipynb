{
 "cells": [
  {
   "cell_type": "code",
   "execution_count": null,
   "metadata": {},
   "outputs": [],
   "source": [
    "import multiprocessing\n",
    "import time\n",
    "\n",
    "import os\n",
    "\n",
    "def hello(q):\n",
    "    id = multiprocessing.current_process().name\n",
    "    q.put(\"Message in a bottle from {}\".format(id))   # return variable\n",
    "    \n",
    "    \n",
    "np = 4\n",
    "jobs = []\n",
    "qs = []\n",
    "for i in range(np):\n",
    "    q = multiprocessing.Queue()\n",
    "    job = multiprocessing.Process(target=hello,args=[q])\n",
    "    job.start()\n",
    "    jobs.append(job)\n",
    "    qs.append(q)\n",
    "    \n",
    "for i in range(np):\n",
    "    jobs[i].join()\n",
    "    print(qs[i].get())\n",
    "    \n",
    "print(\"All done\")\n"
   ]
  },
  {
   "cell_type": "code",
   "execution_count": null,
   "metadata": {
    "collapsed": true
   },
   "outputs": [],
   "source": []
  }
 ],
 "metadata": {
  "kernelspec": {
   "display_name": "Python 3",
   "language": "python",
   "name": "python3"
  },
  "language_info": {
   "codemirror_mode": {
    "name": "ipython",
    "version": 3
   },
   "file_extension": ".py",
   "mimetype": "text/x-python",
   "name": "python",
   "nbconvert_exporter": "python",
   "pygments_lexer": "ipython3",
   "version": "3.6.3"
  }
 },
 "nbformat": 4,
 "nbformat_minor": 2
}
