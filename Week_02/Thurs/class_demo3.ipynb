{
 "cells": [
  {
   "cell_type": "code",
   "execution_count": 2,
   "metadata": {},
   "outputs": [
    {
     "name": "stdout",
     "output_type": "stream",
     "text": [
      "Using matplotlib backend: TkAgg\n",
      "Populating the interactive namespace from numpy and matplotlib\n"
     ]
    }
   ],
   "source": [
    "%pylab\n",
    "import time, multiprocessing"
   ]
  },
  {
   "cell_type": "code",
   "execution_count": 3,
   "metadata": {
    "collapsed": true
   },
   "outputs": [],
   "source": [
    "N = 2**28\n",
    "x = random.rand(N)"
   ]
  },
  {
   "cell_type": "code",
   "execution_count": 4,
   "metadata": {
    "collapsed": true
   },
   "outputs": [],
   "source": [
    "def vsum(x,q):\n",
    "    q.put(sum(x))\n",
    "    q.close()\n",
    "    \n",
    "def compute_mean(x,np):\n",
    "    N = len(x)\n",
    "    jobs = []\n",
    "    qs = []\n",
    "    for i in range(np):\n",
    "        q = multiprocessing.Queue()\n",
    "        i1 = int(i*N/np)\n",
    "        i2 = int((i+1)*N/np)\n",
    "        job = multiprocessing.Process(target=vsum,args=[x[i1:i2],q])\n",
    "        qs.append(q)\n",
    "        jobs.append(job)\n",
    "        \n",
    "    for job in jobs:\n",
    "        job.start()\n",
    "    \n",
    "    for job in jobs:\n",
    "        job.join()\n",
    "    \n",
    "    s = 0\n",
    "    for q in qs:\n",
    "        s += q.get()\n",
    "        \n",
    "    return s/N    "
   ]
  },
  {
   "cell_type": "code",
   "execution_count": 10,
   "metadata": {},
   "outputs": [
    {
     "name": "stdout",
     "output_type": "stream",
     "text": [
      "Average =   0.49999178\n",
      "CPU times: user 6.93 ms, sys: 18.3 ms, total: 25.2 ms\n",
      "Wall time: 444 ms\n"
     ]
    }
   ],
   "source": [
    "%%time\n",
    "\n",
    "np = 4\n",
    "avg = compute_mean(x,np)\n",
    "print(\"Average = {:12.8f}\".format(avg))"
   ]
  },
  {
   "cell_type": "code",
   "execution_count": 9,
   "metadata": {
    "collapsed": true
   },
   "outputs": [],
   "source": [
    "t = [1.29, 0.667, 0.377, 0.357, 0.337]"
   ]
  },
  {
   "cell_type": "code",
   "execution_count": null,
   "metadata": {
    "collapsed": true
   },
   "outputs": [],
   "source": []
  }
 ],
 "metadata": {
  "kernelspec": {
   "display_name": "Python 3",
   "language": "python",
   "name": "python3"
  },
  "language_info": {
   "codemirror_mode": {
    "name": "ipython",
    "version": 3
   },
   "file_extension": ".py",
   "mimetype": "text/x-python",
   "name": "python",
   "nbconvert_exporter": "python",
   "pygments_lexer": "ipython3",
   "version": "3.6.3"
  }
 },
 "nbformat": 4,
 "nbformat_minor": 2
}
