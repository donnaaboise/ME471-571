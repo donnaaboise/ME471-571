{
 "cells": [
  {
   "cell_type": "markdown",
   "metadata": {},
   "source": [
    "# Constructing and starting a single process"
   ]
  },
  {
   "cell_type": "code",
   "execution_count": null,
   "metadata": {},
   "outputs": [],
   "source": [
    "import multiprocessing\n",
    "import os\n",
    "import time\n",
    "\n",
    "print('This is process {}'.format(os.getppid()))"
   ]
  },
  {
   "cell_type": "code",
   "execution_count": null,
   "metadata": {},
   "outputs": [],
   "source": [
    "job = multiprocessing.Process()\n",
    "print(job.is_alive())"
   ]
  },
  {
   "cell_type": "code",
   "execution_count": null,
   "metadata": {},
   "outputs": [],
   "source": [
    "job = multiprocessing.Process()\n",
    "\n",
    "job.start()\n",
    "print(\"Process id is {}\".format(job.pid))\n",
    "\n",
    "t0 = time.time()\n",
    "while job.is_alive():\n",
    "    pass\n",
    "t1 = time.time()\n",
    "dt = t1-t0\n",
    "print(\"Time in process is {:.4f} ms\".format(dt*1000))"
   ]
  },
  {
   "cell_type": "code",
   "execution_count": null,
   "metadata": {},
   "outputs": [],
   "source": [
    "job = multiprocessing.Process()\n",
    "\n",
    "job.start()\n",
    "print(\"Process id is {}\".format(job.pid))\n",
    "\n",
    "t0 = time.time()\n",
    "t1 = time.time()\n",
    "while (t1-t0) < dt/10.0:\n",
    "    t1 = time.time()\n",
    "t2 = time.time()\n",
    "print(\"Process ran for {:.4f} ms\".format((t2-t0)*1000))\n",
    "print(job.is_alive())\n",
    "\n",
    "# Terminate the process prematurely\n",
    "job.terminate()\n",
    "time.sleep(0.01)    # Give the system time to terminate the process\n",
    "print(job.is_alive())"
   ]
  },
  {
   "cell_type": "code",
   "execution_count": null,
   "metadata": {
    "collapsed": true
   },
   "outputs": [],
   "source": []
  }
 ],
 "metadata": {
  "kernelspec": {
   "display_name": "Python 3",
   "language": "python",
   "name": "python3"
  },
  "language_info": {
   "codemirror_mode": {
    "name": "ipython",
    "version": 3
   },
   "file_extension": ".py",
   "mimetype": "text/x-python",
   "name": "python",
   "nbconvert_exporter": "python",
   "pygments_lexer": "ipython3",
   "version": "3.6.3"
  }
 },
 "nbformat": 4,
 "nbformat_minor": 2
}
