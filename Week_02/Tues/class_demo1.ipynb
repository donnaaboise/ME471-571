{
 "cells": [
  {
   "cell_type": "markdown",
   "metadata": {},
   "source": [
    "# Getting the process to do something\n",
    "\n",
    "In this demo, we get the process to do something by passing it a function.  For this example, the process prints out its name e.g. `Process-4`, and generates a random number.  "
   ]
  },
  {
   "cell_type": "code",
   "execution_count": null,
   "metadata": {},
   "outputs": [],
   "source": [
    "import multiprocessing\n",
    "import os\n",
    "import time\n",
    "import random\n",
    "\n",
    "print('This is process {}'.format(os.getppid()))"
   ]
  },
  {
   "cell_type": "code",
   "execution_count": null,
   "metadata": {},
   "outputs": [],
   "source": [
    "# This what the process will do\n",
    "def hello():\n",
    "    id = multiprocessing.current_process().name\n",
    "    jobid = os.getpid()\n",
    "    x = random.random()\n",
    "    print(\"Hello, World! from {} (jobid={});  x is {:10.8f}\".format(id,jobid,x))\n",
    "    time.sleep(10)\n",
    "\n",
    "job = multiprocessing.Process(target=hello)\n",
    "job.start()\n",
    "print(\"Jobid = {}\".format(job.pid))"
   ]
  },
  {
   "cell_type": "code",
   "execution_count": null,
   "metadata": {},
   "outputs": [],
   "source": [
    "# job takes 10 seconds to complete, so will be alive for a while\n",
    "job.is_alive()"
   ]
  },
  {
   "cell_type": "code",
   "execution_count": null,
   "metadata": {
    "collapsed": true
   },
   "outputs": [],
   "source": [
    "# If we are tired of waiting for the job to complete, we can terminate it\n",
    "job.terminate()"
   ]
  },
  {
   "cell_type": "code",
   "execution_count": null,
   "metadata": {},
   "outputs": [],
   "source": [
    "job.is_alive()"
   ]
  },
  {
   "cell_type": "code",
   "execution_count": null,
   "metadata": {
    "collapsed": true
   },
   "outputs": [],
   "source": []
  }
 ],
 "metadata": {
  "kernelspec": {
   "display_name": "Python 3",
   "language": "python",
   "name": "python3"
  },
  "language_info": {
   "codemirror_mode": {
    "name": "ipython",
    "version": 3
   },
   "file_extension": ".py",
   "mimetype": "text/x-python",
   "name": "python",
   "nbconvert_exporter": "python",
   "pygments_lexer": "ipython3",
   "version": "3.6.3"
  }
 },
 "nbformat": 4,
 "nbformat_minor": 2
}
