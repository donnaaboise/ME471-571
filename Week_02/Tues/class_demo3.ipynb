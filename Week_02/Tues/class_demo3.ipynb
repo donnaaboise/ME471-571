{
 "cells": [
  {
   "cell_type": "code",
   "execution_count": null,
   "metadata": {},
   "outputs": [],
   "source": [
    "import multiprocessing\n",
    "import os\n",
    "import time\n",
    "import random\n",
    "\n",
    "print('This is process {}'.format(os.getppid()))"
   ]
  },
  {
   "cell_type": "code",
   "execution_count": null,
   "metadata": {},
   "outputs": [],
   "source": [
    "%%time\n",
    "def hello(k):\n",
    "    id = multiprocessing.current_process().name\n",
    "    print(\"Greetings from {}\".format(id))\n",
    "    k.value += 1\n",
    "    time.sleep(5)\n",
    "    print(\"\")\n",
    "    \n",
    "k = multiprocessing.Value('i',0)\n",
    "\n",
    "np = 10\n",
    "jobs = []\n",
    "for i in range(np):\n",
    "    job = multiprocessing.Process(target=hello,args=[k])\n",
    "    job.start()\n",
    "    print(\"jobid for job {} is {}\".format(i+1,job.pid))\n",
    "    jobs.append(job)\n",
    "\n",
    "        \n",
    "for i in range(np):\n",
    "    jobs[i].join()\n",
    "\n",
    "print(\"k is {}\".format(k.value))\n",
    "\n",
    "\n",
    "print(\"All done!!\")"
   ]
  },
  {
   "cell_type": "code",
   "execution_count": null,
   "metadata": {
    "collapsed": true
   },
   "outputs": [],
   "source": [
    "print(\"hello\")"
   ]
  },
  {
   "cell_type": "code",
   "execution_count": null,
   "metadata": {
    "collapsed": true
   },
   "outputs": [],
   "source": []
  }
 ],
 "metadata": {
  "kernelspec": {
   "display_name": "Python 3",
   "language": "python",
   "name": "python3"
  },
  "language_info": {
   "codemirror_mode": {
    "name": "ipython",
    "version": 3
   },
   "file_extension": ".py",
   "mimetype": "text/x-python",
   "name": "python",
   "nbconvert_exporter": "python",
   "pygments_lexer": "ipython3",
   "version": "3.6.3"
  }
 },
 "nbformat": 4,
 "nbformat_minor": 2
}
