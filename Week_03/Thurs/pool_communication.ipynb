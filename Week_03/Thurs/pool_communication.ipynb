{
 "cells": [
  {
   "cell_type": "code",
   "execution_count": null,
   "metadata": {
    "collapsed": true
   },
   "outputs": [],
   "source": [
    "from pool_tools import *\n",
    "import math\n",
    "\n",
    "def worker_zzz(z):\n",
    "    d, x = z    # Distribute tuple to variables.\n",
    "    jobnum,t = d\n",
    "    id = os.getpid()\n",
    "    # print(\"In process {} ({:2d}) is sleeping {:8.4f} seconds\".format(id,jobnum,t))\n",
    "    # time.sleep(t)\n",
    "    t0 = time.time()    \n",
    "    y = [2*w + 4*w**2 for w in x]\n",
    "    t1 = time.time()\n",
    "    t = t1-t0\n",
    "    # print(\"len(x) = {}; sum(x) = {}\".format(len(x),y))\n",
    "    return (jobnum,t,os.getpid(),y)\n",
    "\n",
    "def test7(x,data,np):\n",
    "    pool = Pool(processes=np)              # start 4 worker processes\n",
    "\n",
    "    # This call is non-blocking;  \n",
    "    results = []\n",
    "    for d in data:\n",
    "        r = pool.apply_async(worker_zzz,args = ((d,x),))\n",
    "        results.append(r)\n",
    "    pool.close()\n",
    "    pool.join()     # Block here or with r.get() below\n",
    "    res = [r.get() for r in results]  # this blocks if pool is not closed/joined\n",
    "    print_pool_results(res,np)\n",
    "    \n",
    "np = 1\n",
    "njobs = 16\n",
    "            \n",
    "print(\"Launching {} jobs on {} cores\".format(njobs,np))\n",
    "    \n",
    "random.seed(1234)\n",
    "\n",
    "sleep_times = [5*random.random() for i in range(njobs)]\n",
    "pnum = range(njobs)\n",
    "data = zip(pnum,sleep_times)\n",
    "\n",
    "N = 2**20\n",
    "m = int(N/np)\n",
    "x = [random.random() for i in range(m)]\n",
    "\n",
    "tr = %timeit -n 1 -r 1 -o -q pass; test7(x,data,np)\n",
    "print(\"{:>25s} {:12.4f}\".format(\"Wall clock time (s)\",tr.best))"
   ]
  },
  {
   "cell_type": "code",
   "execution_count": null,
   "metadata": {
    "collapsed": true
   },
   "outputs": [],
   "source": [
    "import matplotlib as plt\n",
    "import pandas\n",
    "\n",
    "p = pandas.Series([1,2,4,8])\n",
    "t = pandas.Series([5.5006,1.7139,0.8717, 0.6370])\n",
    "df = pandas.DataFrame({'t' : t, 'p' : p})\n",
    "df.plot(x='p',style='.-',markersize=20,logx=True,logy=True)"
   ]
  }
 ],
 "metadata": {
  "kernelspec": {
   "display_name": "Python 3",
   "language": "python",
   "name": "python3"
  },
  "language_info": {
   "codemirror_mode": {
    "name": "ipython",
    "version": 3
   },
   "file_extension": ".py",
   "mimetype": "text/x-python",
   "name": "python",
   "nbconvert_exporter": "python",
   "pygments_lexer": "ipython3",
   "version": "3.6.3"
  }
 },
 "nbformat": 4,
 "nbformat_minor": 2
}
