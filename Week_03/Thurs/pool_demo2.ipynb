{
 "cells": [
  {
   "cell_type": "code",
   "execution_count": 1,
   "metadata": {},
   "outputs": [
    {
     "name": "stdout",
     "output_type": "stream",
     "text": [
      "Overwriting pool_demo2.py\n"
     ]
    }
   ],
   "source": [
    "%%file pool_demo2.py\n",
    "\n",
    "from multiprocessing import Pool\n",
    "import multiprocessing\n",
    "import time\n",
    "import os\n",
    "import numpy\n",
    "\n",
    "def zzz(z):\n",
    "    pnum, t = z    # Distribute tuple to variables.\n",
    "    id = os.getpid()\n",
    "    print(\"Process {} ({:2d}) is sleeping for {:8.4f} seconds\".format(id,pnum,t))\n",
    "    time.sleep(t)\n",
    "    return (pnum,t,os.getpid())\n",
    "\n",
    "if __name__ == '__main__':\n",
    "    np = 8\n",
    "    njobs = 16\n",
    "\n",
    "    print(\"Launching {} jobs on {} cores\".format(njobs,np))\n",
    "\n",
    "    pool = Pool(processes=np) \n",
    "    \n",
    "    # launching multiple evaluations asynchronously *may* use more processes\n",
    "    sleep_times = 5*numpy.random.rand(njobs)\n",
    "    pnum = range(njobs)\n",
    "    z = zip(pnum,sleep_times)\n",
    "\n",
    "    if use_callback:    \n",
    "        \n",
    "        results = []\n",
    "        time_total = 0\n",
    "\n",
    "        def initialize_async()\n",
    "        \n",
    "        def cb(result):\n",
    "            print(\"In callback {}\".format(result))\n",
    "            print(\"\")\n",
    "            time_total += result.get()\n",
    "            results.append(result)    \n",
    "        \n",
    "        t0 = time.time()\n",
    "        for j in range(njobs):\n",
    "            # This launches jobs, but they only get called with a .get() or .join, etc. \n",
    "            pool.apply_async(zzz,args=((pnum[j],sleep_times[j]),),initializer = callback=cb)\n",
    "        t1 = time.time()\n",
    "        print(\"Time launching jobs : {:12.4f}\".format(t1-t0))\n",
    "    \n",
    "        # This is where jobs are actually started. \n",
    "        t0 = time.time()\n",
    "        pool.close()\n",
    "        pool.join()\n",
    "        t1 = time.time()\n",
    "        print(\"Time joining jobs : {:12.4f}\".format(t1-t0))    \n",
    "    \n",
    "        # Use results collected from callback.\n",
    "        res = results\n",
    "    else:\n",
    "        results = []\n",
    "        t0 = time.time()\n",
    "        for j in range(njobs):\n",
    "            # This launches jobs, but they only get called with a .get() or .join, etc. \n",
    "            r = pool.apply_async(zzz,args=((pnum[j],sleep_times[j]),))\n",
    "            results.append(r)\n",
    "        t1 = time.time()\n",
    "        print(\"Time launching jobs : {:12.4f}\".format(t1-t0))\n",
    "    \n",
    "        # This is where jobs are actually started. \n",
    "        t0 = time.time()\n",
    "        pool.close()\n",
    "        pool.join()\n",
    "        t1 = time.time()\n",
    "        print(\"Time joining jobs : {:12.4f}\".format(t1-t0))    \n",
    "    \n",
    "        # Use results collected from callback.\n",
    "        res = [r.get() for r in results]\n",
    "\n",
    "\n",
    "            \n",
    "    # how much time was spent in each process? \n",
    "    ps = sorted(set([z[2] for z in res]))    # Get a unique set of PIDs\n",
    "    t_total = numpy.empty(np)\n",
    "    for i in range(np):\n",
    "        t_total[i] = sum([z[1] for z in res if z[2] == ps[i]])\n",
    "        print(\"({})  t_total[{}] = {:12.4f} (seconds)\".format(ps[i],i,t_total[i]))\n",
    "\n",
    "    # total_time = sum([z[1] for z in res])    \n",
    "    #total_time = sum(sleep_times)            \n",
    "    print(\"Total time in all tasks     : {:12.4f}\".format(total_time))\n",
    "\n",
    "    print(\"Done!!!\")"
   ]
  },
  {
   "cell_type": "code",
   "execution_count": null,
   "metadata": {},
   "outputs": [
    {
     "name": "stdout",
     "output_type": "stream",
     "text": [
      "Launching 16 jobs on 8 cores\n",
      "\n",
      "Time launching jobs :       0.0003\n",
      "In process 619 ( 0) is waiting   3.8776 seconds\n",
      "In process 620 ( 1) is waiting   1.4247 seconds\n",
      "In process 621 ( 2) is waiting   3.5973 seconds\n",
      "In process 622 ( 3) is waiting   2.6014 seconds\n",
      "In process 623 ( 4) is waiting   4.8239 seconds\n",
      "In process 624 ( 5) is waiting   1.5328 seconds\n",
      "In process 625 ( 6) is waiting   1.8194 seconds\n",
      "In process 626 ( 7) is waiting   3.9780 seconds\n",
      "In process 620 ( 8) is waiting   1.7195 seconds\n",
      "In callback (1, 1.4247468896355586, 620)\n",
      "\n",
      "Exception in thread Thread-3:\n",
      "Traceback (most recent call last):\n",
      "  File \"/usr/local/Anaconda3/lib/python3.6/threading.py\", line 916, in _bootstrap_inner\n",
      "    self.run()\n",
      "  File \"/usr/local/Anaconda3/lib/python3.6/threading.py\", line 864, in run\n",
      "    self._target(*self._args, **self._kwargs)\n",
      "  File \"/usr/local/Anaconda3/lib/python3.6/multiprocessing/pool.py\", line 479, in _handle_results\n",
      "    cache[job]._set(i, obj)\n",
      "  File \"/usr/local/Anaconda3/lib/python3.6/multiprocessing/pool.py\", line 649, in _set\n",
      "    self._callback(self._value)\n",
      "  File \"pool_demo2.py\", line 37, in cb\n",
      "    time_total += result.get()\n",
      "UnboundLocalError: local variable 'time_total' referenced before assignment\n",
      "\n",
      "In process 624 ( 9) is waiting   1.9691 seconds\n",
      "In process 625 (10) is waiting   0.6858 seconds\n",
      "In process 625 (11) is waiting   2.7740 seconds\n",
      "In process 622 (12) is waiting   1.6655 seconds\n",
      "In process 620 (13) is waiting   0.4299 seconds\n",
      "In process 624 (14) is waiting   1.7929 seconds\n",
      "In process 620 (15) is waiting   0.7210 seconds\n"
     ]
    }
   ],
   "source": [
    "!time python pool_demo2.py"
   ]
  },
  {
   "cell_type": "code",
   "execution_count": null,
   "metadata": {
    "collapsed": true
   },
   "outputs": [],
   "source": [
    "2.3025+1.9252+3.8735"
   ]
  },
  {
   "cell_type": "code",
   "execution_count": null,
   "metadata": {
    "collapsed": true
   },
   "outputs": [],
   "source": []
  }
 ],
 "metadata": {
  "kernelspec": {
   "display_name": "Python 3",
   "language": "python",
   "name": "python3"
  },
  "language_info": {
   "codemirror_mode": {
    "name": "ipython",
    "version": 3
   },
   "file_extension": ".py",
   "mimetype": "text/x-python",
   "name": "python",
   "nbconvert_exporter": "python",
   "pygments_lexer": "ipython3",
   "version": "3.6.3"
  }
 },
 "nbformat": 4,
 "nbformat_minor": 2
}
