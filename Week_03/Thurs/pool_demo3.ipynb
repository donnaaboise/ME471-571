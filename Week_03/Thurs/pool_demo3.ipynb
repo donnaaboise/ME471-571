{
 "cells": [
  {
   "cell_type": "code",
   "execution_count": null,
   "metadata": {},
   "outputs": [],
   "source": [
    "%%file pool_demo3.py\n",
    "\n",
    "from multiprocessing import Pool\n",
    "import random\n",
    "\n",
    "results = []\n",
    "\n",
    "def f(t):\n",
    "    return t\n",
    "\n",
    "def cb_append_result(t):\n",
    "    results += [t]        # local variable 'results' referenced before assignment\n",
    "    # results.append(t)       # works\n",
    "    \n",
    "if __name__ == '__main__':\n",
    "    pool = Pool() \n",
    "    t = random.random()\n",
    "    \n",
    "    pool.apply_async(f,args=(t,),callback=cb_append_result)    \n",
    "    pool.close()\n",
    "    pool.join()\n",
    "    print(\"Result is {}\".format(results))\n"
   ]
  },
  {
   "cell_type": "code",
   "execution_count": null,
   "metadata": {
    "collapsed": true
   },
   "outputs": [],
   "source": []
  }
 ],
 "metadata": {
  "kernelspec": {
   "display_name": "Python 3",
   "language": "python",
   "name": "python3"
  },
  "language_info": {
   "codemirror_mode": {
    "name": "ipython",
    "version": 3
   },
   "file_extension": ".py",
   "mimetype": "text/x-python",
   "name": "python",
   "nbconvert_exporter": "python",
   "pygments_lexer": "ipython3",
   "version": "3.6.3"
  }
 },
 "nbformat": 4,
 "nbformat_minor": 2
}
