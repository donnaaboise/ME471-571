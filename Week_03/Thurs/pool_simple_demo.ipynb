{
 "cells": [
  {
   "cell_type": "markdown",
   "metadata": {},
   "source": [
    "# Simple example using a pool of workers\n",
    "<hr/>\n",
    "\n",
    "Using a pool of workers from the multiprocessing module, we can launch `njobs` on `nprocs` processors.  The Pool object schedules how these jobs should be launched so that each of the processes runs about the same length of time.  For jobs with very unequal times to completion, processors will complete different numbers of tasks. "
   ]
  },
  {
   "cell_type": "code",
   "execution_count": null,
   "metadata": {},
   "outputs": [],
   "source": [
    "from multiprocessing import Pool\n",
    "import random, time, os\n",
    "\n",
    "def worker(t):\n",
    "    time.sleep(t)\n",
    "    return (t,os.getpid())\n",
    "\n",
    "# Set up work to do\n",
    "njobs = 19\n",
    "work = [5*random.random() for i in range(njobs)]\n",
    "\n",
    "# Create pool on cpu_count() (default) processes and launch and start jobs\n",
    "pool = Pool()     \n",
    "results = pool.map(worker,iterable=work)\n",
    "\n",
    "# Process the results\n",
    "for r in results:\n",
    "    print(\"Process {} ran for {:8.4f} seconds\".format(r[1],r[0]))"
   ]
  },
  {
   "cell_type": "code",
   "execution_count": null,
   "metadata": {
    "collapsed": true
   },
   "outputs": [],
   "source": []
  }
 ],
 "metadata": {
  "kernelspec": {
   "display_name": "Python 3",
   "language": "python",
   "name": "python3"
  },
  "language_info": {
   "codemirror_mode": {
    "name": "ipython",
    "version": 3
   },
   "file_extension": ".py",
   "mimetype": "text/x-python",
   "name": "python",
   "nbconvert_exporter": "python",
   "pygments_lexer": "ipython3",
   "version": "3.6.3"
  }
 },
 "nbformat": 4,
 "nbformat_minor": 2
}
