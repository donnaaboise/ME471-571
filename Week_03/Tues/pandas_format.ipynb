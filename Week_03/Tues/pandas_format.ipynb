{
 "cells": [
  {
   "cell_type": "markdown",
   "metadata": {},
   "source": [
    "Formatting and displaying Pandas tables\n",
    "----\n",
    "\n",
    "In this notebook, we illustrate a few basic things about formatting \n",
    "Pandas tables and rendering them for display.  \n",
    "\n",
    "More details can be found [here](https://pandas.pydata.org/pandas-docs/stable/generated/pandas.io.formats.style.Styler.html). "
   ]
  },
  {
   "cell_type": "code",
   "execution_count": 1,
   "metadata": {
    "collapsed": true
   },
   "outputs": [],
   "source": [
    "import pandas\n",
    "\n",
    "# Build a data frame with simple data\n",
    "a = pandas.Series([100.12,2,3])\n",
    "df = pandas.DataFrame({'a' : a,'b' : [4113214.5678334,-4.567,6], \n",
    "    'c' : ['yes','no','yes']})\n",
    "\n",
    "# Construct dictionary for labeling columns in display\n",
    "di = {'a' : 'A (J/K*kg)', 'b' : 'B (N/m^2)', 'c' : 'Valid run?'}"
   ]
  },
  {
   "cell_type": "markdown",
   "metadata": {},
   "source": [
    "First, we create a styling object based on the DataFrame style.   We also convert the column headers to the longer form for output purposes. "
   ]
  },
  {
   "cell_type": "code",
   "execution_count": 2,
   "metadata": {
    "collapsed": true
   },
   "outputs": [],
   "source": [
    "pr = df.rename(columns=di).style"
   ]
  },
  {
   "cell_type": "markdown",
   "metadata": {},
   "source": [
    "Then, we set some simple properties such as precision.  Note that *precision* means total number digits to display, not number of digits after the decimal place.  "
   ]
  },
  {
   "cell_type": "code",
   "execution_count": null,
   "metadata": {
    "collapsed": true
   },
   "outputs": [],
   "source": [
    "pr.set_precision(4)"
   ]
  },
  {
   "cell_type": "markdown",
   "metadata": {},
   "source": [
    "To have more control over the formatting, we can format columns individually using C=style format strings.  \n",
    "\n",
    "**Note** : The field width parameter in the format string does not seem to have any affect so we will change column widths using a different approach."
   ]
  },
  {
   "cell_type": "code",
   "execution_count": 3,
   "metadata": {},
   "outputs": [
    {
     "data": {
      "text/html": [
       "<style  type=\"text/css\" >\n",
       "</style>  \n",
       "<table id=\"T_17233650_fc90_11e7_b43e_784f439ce51d\" > \n",
       "<thead>    <tr> \n",
       "        <th class=\"blank level0\" ></th> \n",
       "        <th class=\"col_heading level0 col0\" >A (J/K*kg)</th> \n",
       "        <th class=\"col_heading level0 col1\" >B (N/m^2)</th> \n",
       "        <th class=\"col_heading level0 col2\" >Valid run?</th> \n",
       "    </tr></thead> \n",
       "<tbody>    <tr> \n",
       "        <th id=\"T_17233650_fc90_11e7_b43e_784f439ce51dlevel0_row0\" class=\"row_heading level0 row0\" >0</th> \n",
       "        <td id=\"T_17233650_fc90_11e7_b43e_784f439ce51drow0_col0\" class=\"data row0 col0\" >100.12000</td> \n",
       "        <td id=\"T_17233650_fc90_11e7_b43e_784f439ce51drow0_col1\" class=\"data row0 col1\" >4.11e+06</td> \n",
       "        <td id=\"T_17233650_fc90_11e7_b43e_784f439ce51drow0_col2\" class=\"data row0 col2\" >Yes</td> \n",
       "    </tr>    <tr> \n",
       "        <th id=\"T_17233650_fc90_11e7_b43e_784f439ce51dlevel0_row1\" class=\"row_heading level0 row1\" >1</th> \n",
       "        <td id=\"T_17233650_fc90_11e7_b43e_784f439ce51drow1_col0\" class=\"data row1 col0\" >2.00000</td> \n",
       "        <td id=\"T_17233650_fc90_11e7_b43e_784f439ce51drow1_col1\" class=\"data row1 col1\" >-4.57e+00</td> \n",
       "        <td id=\"T_17233650_fc90_11e7_b43e_784f439ce51drow1_col2\" class=\"data row1 col2\" >No</td> \n",
       "    </tr>    <tr> \n",
       "        <th id=\"T_17233650_fc90_11e7_b43e_784f439ce51dlevel0_row2\" class=\"row_heading level0 row2\" >2</th> \n",
       "        <td id=\"T_17233650_fc90_11e7_b43e_784f439ce51drow2_col0\" class=\"data row2 col0\" >3.00000</td> \n",
       "        <td id=\"T_17233650_fc90_11e7_b43e_784f439ce51drow2_col1\" class=\"data row2 col1\" >6.00e+00</td> \n",
       "        <td id=\"T_17233650_fc90_11e7_b43e_784f439ce51drow2_col2\" class=\"data row2 col2\" >Yes</td> \n",
       "    </tr></tbody> \n",
       "</table> "
      ],
      "text/plain": [
       "<pandas.io.formats.style.Styler at 0x106e8f550>"
      ]
     },
     "execution_count": 3,
     "metadata": {},
     "output_type": "execute_result"
    }
   ],
   "source": [
    "fstr = {di[\"a\"] : '{:.5f}'.format, di[\"b\"]:'{:.2e}'.format, \n",
    "    di['c'] : str.capitalize}    # width has no affect\n",
    "pr.format(fstr)"
   ]
  },
  {
   "cell_type": "markdown",
   "metadata": {},
   "source": [
    "We can highlight minimum and maxium quantites in the table, and change column width. "
   ]
  },
  {
   "cell_type": "code",
   "execution_count": 4,
   "metadata": {},
   "outputs": [
    {
     "data": {
      "text/html": [
       "<style  type=\"text/css\" >\n",
       "    #T_2221c546_fc90_11e7_b724_784f439ce51drow0_col0 {\n",
       "            : ;\n",
       "            : ;\n",
       "            width:  90px;\n",
       "        }    #T_2221c546_fc90_11e7_b724_784f439ce51drow0_col1 {\n",
       "            : ;\n",
       "            background-color:  red;\n",
       "            width:  120px;\n",
       "        }    #T_2221c546_fc90_11e7_b724_784f439ce51drow1_col0 {\n",
       "            : ;\n",
       "            : ;\n",
       "            width:  90px;\n",
       "        }    #T_2221c546_fc90_11e7_b724_784f439ce51drow1_col1 {\n",
       "            background-color:  yellow;\n",
       "            : ;\n",
       "            width:  120px;\n",
       "        }    #T_2221c546_fc90_11e7_b724_784f439ce51drow2_col0 {\n",
       "            : ;\n",
       "            : ;\n",
       "            width:  90px;\n",
       "        }    #T_2221c546_fc90_11e7_b724_784f439ce51drow2_col1 {\n",
       "            : ;\n",
       "            : ;\n",
       "            width:  120px;\n",
       "        }</style>  \n",
       "<table id=\"T_2221c546_fc90_11e7_b724_784f439ce51d\" > \n",
       "<thead>    <tr> \n",
       "        <th class=\"blank level0\" ></th> \n",
       "        <th class=\"col_heading level0 col0\" >A (J/K*kg)</th> \n",
       "        <th class=\"col_heading level0 col1\" >B (N/m^2)</th> \n",
       "        <th class=\"col_heading level0 col2\" >Valid run?</th> \n",
       "    </tr></thead> \n",
       "<tbody>    <tr> \n",
       "        <th id=\"T_2221c546_fc90_11e7_b724_784f439ce51dlevel0_row0\" class=\"row_heading level0 row0\" >0</th> \n",
       "        <td id=\"T_2221c546_fc90_11e7_b724_784f439ce51drow0_col0\" class=\"data row0 col0\" >100.12000</td> \n",
       "        <td id=\"T_2221c546_fc90_11e7_b724_784f439ce51drow0_col1\" class=\"data row0 col1\" >4.11e+06</td> \n",
       "        <td id=\"T_2221c546_fc90_11e7_b724_784f439ce51drow0_col2\" class=\"data row0 col2\" >Yes</td> \n",
       "    </tr>    <tr> \n",
       "        <th id=\"T_2221c546_fc90_11e7_b724_784f439ce51dlevel0_row1\" class=\"row_heading level0 row1\" >1</th> \n",
       "        <td id=\"T_2221c546_fc90_11e7_b724_784f439ce51drow1_col0\" class=\"data row1 col0\" >2.00000</td> \n",
       "        <td id=\"T_2221c546_fc90_11e7_b724_784f439ce51drow1_col1\" class=\"data row1 col1\" >-4.57e+00</td> \n",
       "        <td id=\"T_2221c546_fc90_11e7_b724_784f439ce51drow1_col2\" class=\"data row1 col2\" >No</td> \n",
       "    </tr>    <tr> \n",
       "        <th id=\"T_2221c546_fc90_11e7_b724_784f439ce51dlevel0_row2\" class=\"row_heading level0 row2\" >2</th> \n",
       "        <td id=\"T_2221c546_fc90_11e7_b724_784f439ce51drow2_col0\" class=\"data row2 col0\" >3.00000</td> \n",
       "        <td id=\"T_2221c546_fc90_11e7_b724_784f439ce51drow2_col1\" class=\"data row2 col1\" >6.00e+00</td> \n",
       "        <td id=\"T_2221c546_fc90_11e7_b724_784f439ce51drow2_col2\" class=\"data row2 col2\" >Yes</td> \n",
       "    </tr></tbody> \n",
       "</table> "
      ],
      "text/plain": [
       "<pandas.io.formats.style.Styler at 0x106e8f550>"
      ]
     },
     "execution_count": 4,
     "metadata": {},
     "output_type": "execute_result"
    }
   ],
   "source": [
    "pr.highlight_min(axis=None,color='yellow')\n",
    "pr.highlight_max(axis=None,color='red')\n",
    "\n",
    "pr.set_properties(subset=[di[\"a\"]],width='90px')     # Set width here\n",
    "pr.set_properties(subset=[di[\"b\"]],width='120px')"
   ]
  },
  {
   "cell_type": "markdown",
   "metadata": {},
   "source": [
    "Exporting to HTML and Latex\n",
    "----\n",
    "\n",
    "We can export these tables to HTML or Latex with the following commands.  As with the tables above, formatting strings can be added.  But the 'formatters' keyword requires one-parameter functions, so we include the `.format` to produce a function that returns the formatted numeric data."
   ]
  },
  {
   "cell_type": "code",
   "execution_count": null,
   "metadata": {
    "collapsed": true
   },
   "outputs": [],
   "source": [
    "fstr = {di['a'] : \"{:.4f}\".format, di['b'] :'{:.2e}'.format, \n",
    "    di['c'] : str.capitalize}    \n",
    "df_html = df.rename(columns=di).to_html(formatters=fstr,justify='right')\n",
    "print(df_html)"
   ]
  },
  {
   "cell_type": "markdown",
   "metadata": {},
   "source": [
    "Similarly, we can get Latex output.   We include `\\num` in the format string so that we can use the `siunitx` latex package for providing the formatting."
   ]
  },
  {
   "cell_type": "code",
   "execution_count": null,
   "metadata": {
    "collapsed": true
   },
   "outputs": [],
   "source": [
    "fstr = {di['a'] : \"\\\\num({})\".format, di['b'] :'\\\\num({})'.format, \n",
    "    di['c'] : str.capitalize}  \n",
    "df_latex = df.rename(columns=di).to_latex(formatters=fstr,escape=False)\n",
    "print(df_latex)"
   ]
  }
 ],
 "metadata": {
  "kernelspec": {
   "display_name": "Python 3",
   "language": "python",
   "name": "python3"
  },
  "language_info": {
   "codemirror_mode": {
    "name": "ipython",
    "version": 3
   },
   "file_extension": ".py",
   "mimetype": "text/x-python",
   "name": "python",
   "nbconvert_exporter": "python",
   "pygments_lexer": "ipython3",
   "version": "3.6.3"
  }
 },
 "nbformat": 4,
 "nbformat_minor": 2
}
