{
 "cells": [
  {
   "cell_type": "code",
   "execution_count": null,
   "metadata": {},
   "outputs": [],
   "source": [
    "%pylab inline\n",
    "%matplotlib notebook\n",
    "\n",
    "from scipy.sparse.linalg import spsolve\n",
    "from scipy.sparse import spdiags, tril, diags\n",
    "import time"
   ]
  },
  {
   "cell_type": "code",
   "execution_count": null,
   "metadata": {
    "collapsed": true
   },
   "outputs": [],
   "source": [
    "def utrue(x):\n",
    "    return sin(2*pi*x)\n",
    "\n",
    "def rhs(x):\n",
    "    return -(2*pi)**2*sin(2*pi*x)"
   ]
  },
  {
   "cell_type": "code",
   "execution_count": null,
   "metadata": {},
   "outputs": [],
   "source": [
    "# Jacobi iteration\n",
    "def jacobi(A,F,kmax,tol):\n",
    "    D = diags(A.diagonal(),format='csc')   # Specify format to avoid warning message\n",
    "    uk = zeros(F.shape) \n",
    "    rk = F-A@uk\n",
    "    zk = spsolve(D,rk)\n",
    "    zk = reshape(zk,F.shape)\n",
    "    e = []\n",
    "    for k in range(0,kmax):\n",
    "        ukp1 = uk + zk\n",
    "        e = e + [norm(zk)]        \n",
    "        # print(\"{:5d} {:20.16e} {:20.16e}\".format(k,e[k],norm(uk-ukp1)))            \n",
    "        if e[k] < tol:\n",
    "            break\n",
    "        rk = F-A@ukp1\n",
    "        zk = spsolve(D,rk)\n",
    "        zk = reshape(zk,F.shape)\n",
    "        uk = ukp1\n",
    "    \n",
    "    return ukp1,e,k\n",
    "\n"
   ]
  },
  {
   "cell_type": "code",
   "execution_count": null,
   "metadata": {
    "collapsed": true
   },
   "outputs": [],
   "source": [
    "# Gauss-Seidel\n",
    "def gauss_seidel(A,F,kmax,tol):\n",
    "    L = tril(A,format='csc')   # Specify format to avoid warning message\n",
    "    uk = zeros(F.shape) \n",
    "    rk = F-A@uk\n",
    "    zk = spsolve(L,rk)\n",
    "    zk = reshape(zk,F.shape)\n",
    "    e = []\n",
    "    for k in range(0,kmax):\n",
    "        ukp1 = uk + zk\n",
    "        e = e + [norm(zk)]        \n",
    "        # print(\"{:5d} {:20.16e} {:20.16e}\".format(k,e[k],norm(uk-ukp1)))            \n",
    "        if e[k] < tol:\n",
    "            break\n",
    "        rk = F-A@ukp1\n",
    "        zk = spsolve(L,rk)\n",
    "        zk = reshape(zk,F.shape)\n",
    "        uk = ukp1\n",
    "    \n",
    "    return ukp1,e,k        "
   ]
  },
  {
   "cell_type": "code",
   "execution_count": null,
   "metadata": {},
   "outputs": [],
   "source": [
    "N = 80\n",
    "h = 1/N\n",
    "xlong = linspace(0,1,N+1)\n",
    "x = reshape(xlong[1:-1],(N-1,1))  # remove entries 0 and N+1; reshape vector.\n",
    "\n",
    "z = ones(N-1)\n",
    "A = spdiags([z,-2*z,z],[-1,0,1],N-1,N-1,format='csc')  # sparse storage\n",
    "    \n",
    "# Boundary conditions    \n",
    "bc = zeros((N-1,1))    # \"tuple\" (N-1,1) describes shape of the array.\n",
    "    \n",
    "F = h**2*rhs(x) - bc\n",
    "\n",
    "kmax = 10000\n",
    "tol = 1e-12\n",
    "\n",
    "t0 = time.time()\n",
    "u,e_jacobi,itcount = jacobi(A,F,kmax,tol)\n",
    "t1 = time.time()\n",
    "print(\"{:>20s} {:>12s}\".format(\"Method\",\"Jacobi\"))\n",
    "print(\"{:>20s} {:12.4e}\".format(\"Residual\",e_jacobi[-1]))\n",
    "print(\"{:>20s} {:12.4e}\".format(\"Error\",norm(u-utrue(x))))\n",
    "print(\"{:>20s} {:12d}\".format(\"# Iterations\",itcount))\n",
    "print(\"{:>20s} {:12.4f}\".format(\"Time (s)\",t1-t0))\n",
    "\n",
    "print(\"\")\n",
    "t0 = time.time()\n",
    "u,e_gs,itcount = gauss_seidel(A,F,kmax,tol)\n",
    "t1 = time.time()\n",
    "print(\"{:>20s} {:>12s}\".format(\"Method\",\"Gauss-Seidel\"))\n",
    "print(\"{:>20s} {:12.4e}\".format(\"Residual\",e_gs[-1]))\n",
    "print(\"{:>20s} {:12.4e}\".format(\"Error\",norm(u-utrue(x))))\n",
    "print(\"{:>20s} {:12d}\".format(\"# Iterations\",itcount))\n",
    "print(\"{:>20s} {:12.4f}\".format(\"Time (s)\",t1-t0))\n",
    "\n",
    "\n",
    "semilogy(e_jacobi,'r.-',markersize=5,label='Jacobi')\n",
    "semilogy(e_gs,'b.-',markersize=5,label='Gauss-Seidel')\n",
    "\n",
    "legend()"
   ]
  },
  {
   "cell_type": "code",
   "execution_count": null,
   "metadata": {
    "collapsed": true
   },
   "outputs": [],
   "source": []
  }
 ],
 "metadata": {
  "kernelspec": {
   "display_name": "Python 3",
   "language": "python",
   "name": "python3"
  },
  "language_info": {
   "codemirror_mode": {
    "name": "ipython",
    "version": 3
   },
   "file_extension": ".py",
   "mimetype": "text/x-python",
   "name": "python",
   "nbconvert_exporter": "python",
   "pygments_lexer": "ipython3",
   "version": "3.6.3"
  }
 },
 "nbformat": 4,
 "nbformat_minor": 2
}
