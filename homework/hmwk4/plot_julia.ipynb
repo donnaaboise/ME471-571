{
 "cells": [
  {
   "cell_type": "markdown",
   "metadata": {},
   "source": [
    "<hr style=\"border-width:2px; border-color:coral\"/>\n",
    "# Plotting fractals using Matplotlib\n",
    "<hr style=\"border-width:2px; border-color:coral\"/>"
   ]
  },
  {
   "cell_type": "code",
   "execution_count": 1,
   "metadata": {},
   "outputs": [
    {
     "name": "stdout",
     "output_type": "stream",
     "text": [
      "Populating the interactive namespace from numpy and matplotlib\n"
     ]
    }
   ],
   "source": [
    "%pylab inline\n",
    "%matplotlib notebook"
   ]
  },
  {
   "cell_type": "markdown",
   "metadata": {},
   "source": [
    "This script loads the binary fractal data created in your CUDA/C fractal program, reshapes it into an $N \\times N$ array of four color channels (RGBA, A=opacity channel), plots the image, and saves it to a PNG file."
   ]
  },
  {
   "cell_type": "markdown",
   "metadata": {},
   "source": [
    "<hr style=\"border-width:2px; border-color:coral\"/>\n",
    "## Sample image\n",
    "<hr style=\"border-width:2px; border-color:coral\"/>\n",
    "\n",
    "First, we want to see what a typical image file looks like.  We do this by loading an existing image file and examining its contents. \n",
    "\n",
    "We can load an image file into a NumPy array, and replot it, as if it were loaded directly from the binary output created from a C/CUDA program.  \n",
    "\n",
    "To read the image file, we use the Matplotlib function `imread`. "
   ]
  },
  {
   "cell_type": "code",
   "execution_count": 4,
   "metadata": {},
   "outputs": [
    {
     "name": "stdout",
     "output_type": "stream",
     "text": [
      "Image is 128 by 128\n"
     ]
    }
   ],
   "source": [
    "img_test = imread('test.png')\n",
    "DIM_test = img_test.shape[0]\n",
    "print(\"Image is {:2} by {:d}\".format(DIM_test,DIM_test))"
   ]
  },
  {
   "cell_type": "markdown",
   "metadata": {},
   "source": [
    "Let's look at a few entries in row 70.  "
   ]
  },
  {
   "cell_type": "code",
   "execution_count": 5,
   "metadata": {
    "scrolled": false
   },
   "outputs": [
    {
     "data": {
      "text/plain": [
       "array([[ 0.,  0.,  0.,  1.],\n",
       "       [ 0.,  0.,  0.,  1.],\n",
       "       [ 0.,  0.,  0.,  1.],\n",
       "       [ 0.,  0.,  0.,  1.],\n",
       "       [ 0.,  0.,  0.,  1.],\n",
       "       [ 0.,  0.,  0.,  1.],\n",
       "       [ 1.,  1.,  1.,  1.],\n",
       "       [ 0.,  0.,  0.,  1.],\n",
       "       [ 1.,  1.,  1.,  1.],\n",
       "       [ 1.,  1.,  1.,  1.]], dtype=float32)"
      ]
     },
     "execution_count": 5,
     "metadata": {},
     "output_type": "execute_result"
    }
   ],
   "source": [
    "img_test[70][50:60]"
   ]
  },
  {
   "cell_type": "markdown",
   "metadata": {},
   "source": [
    "Each entry in this selection of 10 entries stores color data for a single pixel in the image. This color data is represented as 4 4-byte floating point values.  The first three of these values are the RGB (red,green,blue) channels of the image.  The fourth value is the alpha (opacity) channel.  The image you have just loaded is a black and white image, and so the RGB channels are either all 0s (black) or all 1s (white).   The alpha channel will always be 1 for our fractal images (no transparency).  In more general images with a spectrum of colors, RGBA values are values between 0 and 1. \n",
    "\n",
    "We can plot this image using the Matplotlib function `imshow'."
   ]
  },
  {
   "cell_type": "code",
   "execution_count": null,
   "metadata": {},
   "outputs": [],
   "source": [
    "figure()\n",
    "imshow(img_test)"
   ]
  },
  {
   "cell_type": "markdown",
   "metadata": {},
   "source": [
    "This is a very low resolution fractal,  and includes features we probably don't want such as tick marks and tick mark labels.  The origin in this image is in the upper left corner, and that marks label are in image (pixel) coordinates $[0,DIM]$.\n",
    "\n",
    "The fractal you will create in your C/CUDA code be of much higher resolution (see `julia_gpu.png`), and, in the code below, we remove the tick marks and labels, and make sure the fractal is square."
   ]
  },
  {
   "cell_type": "markdown",
   "metadata": {},
   "source": [
    "<hr style=\"border-width:2px; border-color:coral\"/>\n",
    "## Loading binary data from CUDA/C\n",
    "<hr style=\"border-width:2px; border-color:coral\"/>\n",
    "\n",
    "The binary data created from your CUDA/C program stores and  $N \\times N$ array of pixel data.  Rather than the floating point values in $[0,1]$ loaded in the test image file, your image data stores 4 1-byte `unsigned char` values in the range $[0,255]$.  The Matplotlib image routines will convert this to the floating point values in $[0,1]$. \n"
   ]
  },
  {
   "cell_type": "code",
   "execution_count": null,
   "metadata": {
    "collapsed": true
   },
   "outputs": [],
   "source": [
    "julia_input = 'julia_gpu.out'    # data file containing binary data\n",
    "julia_png = 'julia.png'          # Image file to be created\n",
    "\n",
    "dpi = 256  # dots-per-inch in final figure; dpi*figsize = [DIM,DIM]"
   ]
  },
  {
   "cell_type": "markdown",
   "metadata": {},
   "source": [
    "## Read in data from GPU or CPU calculation\n",
    "Use the instructions on the lecture notes on the course GitHub site \n",
    "(see [hmwk2.pdf](https://github.com/donnaaboise/ME471-571/blob/master/lectures/hmwk2.pdf)) \n",
    "to read in the binary data from your C/CUDA program."
   ]
  },
  {
   "cell_type": "code",
   "execution_count": null,
   "metadata": {},
   "outputs": [],
   "source": [
    "%%time \n",
    "\n",
    "# TODO : Read the data from the binary file you wrote from CUDA/C (using fwrite)\n",
    "#        First entry in the file is the value of DIM;   Remaining entries are NxN\n",
    "#        pixel data (stored at 4 1-byte unsigned char values.)         \n",
    "\n",
    "# TODO : Reshape data into an image array.  Use NumPy 'reshape'.\n"
   ]
  },
  {
   "cell_type": "markdown",
   "metadata": {},
   "source": [
    "## Plot image and save figure "
   ]
  },
  {
   "cell_type": "code",
   "execution_count": null,
   "metadata": {
    "scrolled": false
   },
   "outputs": [],
   "source": [
    "# Determine size (in inches) of final figure\n",
    "fig = figure(figsize=(DIM/dpi, DIM/dpi), dpi=dpi)    \n",
    "\n",
    "# Final image fills all of the figure space.  No tick marks;  Aspect ratio set to 1\n",
    "fig.add_axes([0, 0, 1.0, 1.0], frameon=False, aspect=1)\n",
    "\n",
    "# Plot image\n",
    "plt.imshow(img)\n",
    "\n",
    "# Save image to PNG file.\n",
    "savefig(julia_png,dpi=dpi)   # Change when you want to "
   ]
  }
 ],
 "metadata": {
  "kernelspec": {
   "display_name": "Python 3",
   "language": "python",
   "name": "python3"
  },
  "language_info": {
   "codemirror_mode": {
    "name": "ipython",
    "version": 3
   },
   "file_extension": ".py",
   "mimetype": "text/x-python",
   "name": "python",
   "nbconvert_exporter": "python",
   "pygments_lexer": "ipython3",
   "version": "3.6.3"
  }
 },
 "nbformat": 4,
 "nbformat_minor": 2
}
