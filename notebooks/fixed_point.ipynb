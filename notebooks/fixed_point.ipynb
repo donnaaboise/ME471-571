{
 "cells": [
  {
   "cell_type": "markdown",
   "metadata": {},
   "source": [
    "# Fixed point method and iterative methods for solving linear systems\n",
    "\n",
    "<hr style=\"border-width:2px; border-color:green\"></hr>\n",
    "\n",
    "This problem illustrates how we can used a \"pre-conditioned fixed-point method\" to solve the problem \n",
    "\n",
    "\\begin{equation*}\n",
    "f(x) = b-ax = 0\n",
    "\\end{equation*}\n",
    "\n",
    "using the equivalent fixed point iteration $x = g(x)$, where\n",
    "\n",
    "\\begin{equation*}\n",
    "g(x) \\equiv m^{-1}(b-ax) + x\n",
    "\\end{equation*}\n",
    "\n",
    "for some value of $m$.  \n",
    "\n",
    "To see how the choice of $m$ affect the convergence of the fixed point method, we rewrite the fixed point method as \n",
    "\n",
    "\\begin{equation}\n",
    "x = (1-m^{-1}a)x + m^{-1}b\n",
    "\\end{equation}\n",
    "\n",
    "The fixed point iteration is then given by\n",
    "\n",
    "\\begin{equation}\n",
    "x_{k+1} = (1-m^{-1}a)x_k + m^{-1}b.\n",
    "\\end{equation}\n",
    "\n",
    "Defining $e_{k} \\equiv  x_k - x_{k-1}$, we get\n",
    "\n",
    "\\begin{equation}\n",
    "e_{k} = (1-m^{-1}a)e_{k-1} = ... = (1-m^{-1}a)^{k} e_0\n",
    "\\end{equation}\n",
    "\n",
    "or\n",
    "\n",
    "\\begin{equation}\n",
    "\\left|e_k\\right| \\le \\left|1 - m^{-1}a\\right|^k |e_0|\n",
    "\\end{equation}\n",
    "\n",
    "Convergence is then assured if \n",
    "\n",
    "\\begin{equation}\n",
    "\\left|1 - m^{-1}a\\right| < 1\n",
    "\\end{equation}\n",
    "\n",
    "or $0 < m^{-1}a < 2$.   This is equivalent to the more general condition $|g'(x)| < 1$.\n",
    "\n",
    "What is now obvious is that if we can make $\\left|1 - m^{-1}a\\right| \\ll 1$, we can expect fast convergence.\n",
    "\n",
    "We will see that this scalar problem can be viewed as an analogue to the linear system\n",
    "\n",
    "\\begin{equation}\n",
    "F(\\mathbf x) = \\mathbf b-A\\mathbf x\n",
    "\\end{equation}\n",
    "\n",
    "For the system, the iteration takes the form\n",
    "\n",
    "\\begin{equation}\n",
    "\\mathbf x_{k+1} = \\mathbf x_k + M^{-1}\\left( \\mathbf b - A \\mathbf x_k\\right)\n",
    "\\end{equation}\n",
    "\n",
    "which we can write as\n",
    "\n",
    "\\begin{equation}\n",
    "\\mathbf x_{k+1} = \\left(I - M^{-1}A\\right) \\mathbf x_k + M^{-1}\\mathbf b\n",
    "\\end{equation}\n",
    "\n",
    "for some non-singular matrix $M$.  A sufficient condition for convergence is $\\rho\\left(I - M^{-1}A\\right) < 1$, where $\\rho(B)$ is the *spectral radius* of the matrix of matrix $B$, defined as\n",
    "\n",
    "\\begin{equation*}\n",
    "\\rho(B) = \\max\\{|\\lambda| : \\mbox{where $\\lambda$ is an eigenvalue of $B$}\\}\n",
    "\\end{equation*}\n",
    "\n",
    "The advantages of this approach is that if we can find an $M$ that is both easy to invert, and satisfies a convergence condition, it might be less work computationally to iterate to a solution (possibly stopping early if we are happy with our solution) than applying  a direct method.  Furthermore, this method only requires that we be able to multiply $\\mathbf x_k$ by $A$.\n",
    "\n",
    "\n",
    "Use the slider below to interactively vary the value of $\\alpha\\equiv g'(x)=(1-m^{-1}a)$ to see how the choice of $m$ affects the convergence of using the fixed point iteration to solve $f(x) = b-ax = 0$. \n",
    "\n"
   ]
  },
  {
   "cell_type": "code",
   "execution_count": null,
   "metadata": {},
   "outputs": [],
   "source": [
    "%pylab inline\n",
    "%matplotlib notebook\n",
    "\n",
    "from ipywidgets import interactive, fixed\n",
    "import warnings"
   ]
  },
  {
   "cell_type": "code",
   "execution_count": null,
   "metadata": {},
   "outputs": [],
   "source": [
    "from fp_tools import *\n",
    "\n",
    "# Define axis limits\n",
    "\n",
    "xl = array([-.5, 3.])\n",
    "yl = array([-0.5, 3.])\n",
    "\n",
    "kmax = 200   # maximum number of fixed point iterations\n",
    "a = 3.       # Define f(x) = a/3(5-3x) = 5/3*a - a*x\n",
    "b = 5.\n",
    "\n",
    "x0 = 0.5    # Initial m value\n",
    "\n",
    "plot_f = True\n",
    "\n",
    "slider = fixed_point(xl,yl,a,b,kmax,x0,plot_f);"
   ]
  },
  {
   "cell_type": "code",
   "execution_count": null,
   "metadata": {},
   "outputs": [],
   "source": [
    "display(slider)   "
   ]
  },
  {
   "cell_type": "code",
   "execution_count": null,
   "metadata": {
    "collapsed": true
   },
   "outputs": [],
   "source": []
  }
 ],
 "metadata": {
  "kernelspec": {
   "display_name": "Python 3",
   "language": "python",
   "name": "python3"
  },
  "language_info": {
   "codemirror_mode": {
    "name": "ipython",
    "version": 3
   },
   "file_extension": ".py",
   "mimetype": "text/x-python",
   "name": "python",
   "nbconvert_exporter": "python",
   "pygments_lexer": "ipython3",
   "version": "3.6.3"
  }
 },
 "nbformat": 4,
 "nbformat_minor": 1
}
