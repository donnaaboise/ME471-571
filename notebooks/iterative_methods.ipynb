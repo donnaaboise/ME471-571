{
 "cells": [
  {
   "cell_type": "code",
   "execution_count": null,
   "metadata": {},
   "outputs": [],
   "source": [
    "%pylab inline\n",
    "%matplotlib notebook\n",
    "\n",
    "from scipy.sparse.linalg import spsolve\n",
    "from scipy.sparse import spdiags, tril,diags"
   ]
  },
  {
   "cell_type": "markdown",
   "metadata": {},
   "source": [
    "# Iterative methods - Jacobi, Gauss-Seidel and Conjugate Gradient\n",
    "\n",
    "Below are code that solve a linear system using the Jacobi, Gauss-Seidel and conjugate gradient methods.   You may use the results produced by this code to compare to your node-centered code.  \n",
    "\n",
    "* In your MPI code, you are *not* to store the matrix $A$, or do any explicit matrix-vector multiplications.\n",
    "\n",
    "* To parallize Gauss-Seidel, you will have to implement *Red-Black* ordering (not implemented here)."
   ]
  },
  {
   "cell_type": "code",
   "execution_count": null,
   "metadata": {
    "collapsed": true
   },
   "outputs": [],
   "source": [
    "# Exact solution : u(x)\n",
    "def u(x):\n",
    "    u = cos(2*pi*x)\n",
    "    return u\n",
    "\n",
    "# u''(x)\n",
    "def upp(x):\n",
    "    upp = -(2*pi)**2*cos(2*pi*x)\n",
    "    return upp\n",
    "\n",
    "# RHS\n",
    "def f(x):\n",
    "    f = upp(x)\n",
    "    return f"
   ]
  },
  {
   "cell_type": "code",
   "execution_count": null,
   "metadata": {},
   "outputs": [],
   "source": [
    "# General splitting method\n",
    "def splitting(A,F,method,kmax,tol,prt):\n",
    "    \n",
    "    if method == 'jacobi':\n",
    "        M = diags(A.diagonal(),format='csc')\n",
    "    elif method == 'gs':\n",
    "        M = tril(A,format='csc')  \n",
    "        \n",
    "    uk = zeros(F.shape)\n",
    "    e = []\n",
    "    for k in range(0,kmax):\n",
    "        rk = F-A@uk\n",
    "        zk = spsolve(M,rk)\n",
    "        zk = reshape(zk,F.shape)    # not clear why zk doesn't have the correct shape!\n",
    "        ukp1 = uk + zk\n",
    "        e = e + [norm(zk,np.inf)]\n",
    "        if prt:\n",
    "            print(\"{:5d} {:12.4e}\".format(k,e[k]))\n",
    "        if e[k] < tol:\n",
    "            break\n",
    "            \n",
    "        uk = ukp1\n",
    "                    \n",
    "    return ukp1,e\n",
    "        "
   ]
  },
  {
   "cell_type": "code",
   "execution_count": null,
   "metadata": {
    "collapsed": true
   },
   "outputs": [],
   "source": [
    "def dotv(u,v):\n",
    "    return sum(u*v)\n",
    "\n",
    "def cg(A,F,kmax,tol,prt):\n",
    "    uk = zeros(F.shape)\n",
    "    rk = F - A@uk\n",
    "    pk = rk\n",
    "    e = []\n",
    "    for k in range(0,kmax):\n",
    "        wk = A@pk\n",
    "        alpha = dotv(rk,rk)/dotv(pk,wk)\n",
    "        ukp1 = uk + alpha*pk\n",
    "        rkp1 = rk - alpha*wk\n",
    "        e = e + [norm(alpha*pk,np.inf)]\n",
    "        if prt:           \n",
    "            print(\"{:5d} {:12.4e}\".format(k,e[k]))\n",
    "            \n",
    "        if e[k] < tol:\n",
    "            break\n",
    "            \n",
    "        beta = dotv(rkp1,rkp1)/dotv(rk,rk)\n",
    "        pk = rkp1 + beta*pk\n",
    "        rk = rkp1\n",
    "        uk = ukp1\n",
    "        \n",
    "    return ukp1,e"
   ]
  },
  {
   "cell_type": "code",
   "execution_count": null,
   "metadata": {},
   "outputs": [],
   "source": [
    "N = 128\n",
    "xlong = linspace(0,1,N+1)\n",
    "x = reshape(xlong[1:-1],(N-1,1))  # remove entries 0 and N+1; reshape vector.\n",
    "h = 1.0/N\n",
    "h2 = h**2\n",
    "\n",
    "z = ones(N-1)\n",
    "A = spdiags(vstack([z,-2*z,z]),[-1,0,1],N-1,N-1,format='csc')  # sparse storage\n",
    "A = A/h2;\n",
    "    \n",
    "# Boundary conditions    \n",
    "bc = zeros((N-1,1))    # \"tuple\" (N-1,1) describes shape of the array.\n",
    "bc[0] = u(0)\n",
    "bc[-1] = u(1)           # Use -1 to assign to last entry\n",
    "    \n",
    "F = f(x) - bc/h2\n",
    "\n",
    "kmax = 100000\n",
    "tol = 1e-10\n",
    "prt = False\n",
    "\n",
    "Ue = u(x)\n",
    "\n",
    "print(\"Node-centered mesh (N = {:d};  tol = {:8.2e}; kmax = {:d})\".format(N,tol,kmax))\n",
    "print(\"\")\n",
    "\n",
    "def compute_error(U,Ue,h):\n",
    "    err_method = abs(U-Ue)\n",
    "    err = [0]*3\n",
    "    err[0] = norm(err_method,1)*h\n",
    "    err[1] = sqrt(norm(err_method,2)*h)\n",
    "    err[2] = norm(err_method,np.inf)\n",
    "    return err\n",
    "        \n",
    "results = '{:18s} {:6d} {:8d} {:12.4e} {:12.4e} {:12.4e} {:12.4e}'.format\n",
    "\n",
    "# Jacobi\n",
    "U,E_jacobi = splitting(A,F,'jacobi',kmax,tol,prt)\n",
    "err_jacobi = compute_error(U,Ue,h)\n",
    "print(results('Jacobi',N,len(E_jacobi),E_jacobi[-1],*err_jacobi))\n",
    "\n",
    "# Gauss-Seidel\n",
    "U,E_gs = splitting(A,F,'gs',kmax,tol,prt)\n",
    "err_gs = compute_error(U,Ue,h)\n",
    "print(results('Gauss-Seidel',N,len(E_gs),E_gs[-1],*err_gs))\n",
    "\n",
    "# Conjugate Gradient\n",
    "U,E_cg = cg(A,F,kmax,tol,prt)\n",
    "err_cg = compute_error(U,Ue,h)\n",
    "print(results('Conjugate Gradient',N,len(E_cg),E_cg[-1],*err_gs))"
   ]
  },
  {
   "cell_type": "code",
   "execution_count": null,
   "metadata": {},
   "outputs": [],
   "source": [
    "figure()\n",
    "semilogy(E_jacobi,'b.',markersize=8,label='Jacobi')\n",
    "semilogy(E_gs,'r.',markersize=8,label='Gauss-Seidel')\n",
    "semilogy(E_cg,'g.-',markersize=8,label='Conjugate')\n",
    "\n",
    "legend()\n",
    "xlabel('Iterations',fontsize=16)\n",
    "ylabel('|uk-ukp1|',fontsize=16);\n",
    "title('Iterative Methods',fontsize=16)"
   ]
  },
  {
   "cell_type": "code",
   "execution_count": null,
   "metadata": {
    "collapsed": true
   },
   "outputs": [],
   "source": []
  }
 ],
 "metadata": {
  "kernelspec": {
   "display_name": "Python 3",
   "language": "python",
   "name": "python3"
  },
  "language_info": {
   "codemirror_mode": {
    "name": "ipython",
    "version": 3
   },
   "file_extension": ".py",
   "mimetype": "text/x-python",
   "name": "python",
   "nbconvert_exporter": "python",
   "pygments_lexer": "ipython3",
   "version": "3.6.3"
  }
 },
 "nbformat": 4,
 "nbformat_minor": 1
}
